{
 "cells": [
  {
   "cell_type": "markdown",
   "id": "383b8977",
   "metadata": {},
   "source": [
    "# House Prices — ChatGPT Workflow (Colab)\n",
    "This notebook recreates the full assignment pipeline:\n",
    "- Kaggle auth (optional) and dataset download\n",
    "- Preprocessing (impute/scale/OHE)\n",
    "- Baseline **RandomForest** (CV)\n",
    "- **XGBoost** (CV)\n",
    "- Save submissions + experiment log\n",
    "- (Optional) Submit to Kaggle from Colab\n",
    "\n",
    "> Tip: If you already have `data/train.csv` and `data/test.csv`, you can **skip** the Kaggle cells and run from “Load data & common setup”.\n"
   ]
  },
  {
   "cell_type": "code",
   "execution_count": null,
   "id": "bcbf1989",
   "metadata": {},
   "outputs": [],
   "source": [
    "# (Optional) Install tools\n",
    "!pip -q install kaggle xgboost\n",
    "print(\"Installed kaggle & xgboost (if not already).\")"
   ]
  },
  {
   "cell_type": "markdown",
   "id": "b4e5a910",
   "metadata": {},
   "source": [
    "## Kaggle credentials (optional)"
   ]
  },
  {
   "cell_type": "code",
   "execution_count": null,
   "id": "2b4357ae",
   "metadata": {},
   "outputs": [],
   "source": [
    "# Run this to set Kaggle API creds (or skip if data already present)\n",
    "import json, os, pathlib, getpass\n",
    "cfg_dir = pathlib.Path(\"/root/.kaggle\"); cfg_dir.mkdir(parents=True, exist_ok=True)\n",
    "u = input(\"Kaggle username (leave blank to skip): \").strip()\n",
    "if u:\n",
    "    k = getpass.getpass(\"Kaggle API key (hidden): \").strip()\n",
    "    with open(cfg_dir/\"kaggle.json\",\"w\") as f: json.dump({\"username\": u, \"key\": k}, f)\n",
    "    os.chmod(cfg_dir/\"kaggle.json\", 0o600)\n",
    "    print(\"✅ Saved /root/.kaggle/kaggle.json\")\n",
    "else:\n",
    "    print(\"Skipping Kaggle setup.\")"
   ]
  },
  {
   "cell_type": "markdown",
   "id": "14f31129",
   "metadata": {},
   "source": [
    "## Download House Prices data (requires Join on Kaggle)"
   ]
  },
  {
   "cell_type": "code",
   "execution_count": null,
   "id": "b2cd8b74",
   "metadata": {},
   "outputs": [],
   "source": [
    "# If you see 403, open the comp page in a browser & click **Join/Accept Rules** with the SAME account as your token.\n",
    "!mkdir -p data\n",
    "try:\n",
    "    # list files (works only if joined)\n",
    "    print(\"Listing competition files…\")\n",
    "    _ = get_ipython().getoutput(\"kaggle competitions files -c house-prices-advanced-regression-techniques\")\n",
    "    # download + unzip\n",
    "    print(\"Downloading…\")\n",
    "    _ = get_ipython().getoutput(\"kaggle competitions download -c house-prices-advanced-regression-techniques -p data -q\")\n",
    "    _ = get_ipython().getoutput(\"unzip -o data/house-prices-advanced-regression-techniques.zip -d data\")\n",
    "    _ = get_ipython().getoutput(\"ls -l data | head\")\n",
    "except Exception as e:\n",
    "    print(\"If this failed with 403, join the competition then re-run this cell. Otherwise, you can upload train/test manually in the next cell.\")"
   ]
  },
  {
   "cell_type": "markdown",
   "id": "b32dd881",
   "metadata": {},
   "source": [
    "## (Fallback) Upload `train.csv` and `test.csv` manually"
   ]
  },
  {
   "cell_type": "code",
   "execution_count": null,
   "id": "0d441eff",
   "metadata": {},
   "outputs": [],
   "source": [
    "import pathlib, os, shutil\n",
    "from google.colab import files\n",
    "\n",
    "DATA = pathlib.Path(\"data\"); DATA.mkdir(exist_ok=True)\n",
    "need_train = not (DATA/'train.csv').exists()\n",
    "need_test  = not (DATA/'test.csv').exists()\n",
    "if need_train or need_test:\n",
    "    print(\"Upload train.csv and test.csv now…\")\n",
    "    up = files.upload()\n",
    "    for name in up:\n",
    "        low = name.lower()\n",
    "        if low.startswith(\"train\") and low.endswith(\".csv\"): shutil.move(name, DATA/\"train.csv\")\n",
    "        elif low.startswith(\"test\") and low.endswith(\".csv\"): shutil.move(name, DATA/\"test.csv\")\n",
    "print(\"Data files:\", os.listdir(\"data\"))"
   ]
  },
  {
   "cell_type": "markdown",
   "id": "8bdf28a4",
   "metadata": {},
   "source": [
    "## Load data & common setup"
   ]
  },
  {
   "cell_type": "code",
   "execution_count": null,
   "id": "e80ff6a4",
   "metadata": {},
   "outputs": [],
   "source": [
    "import numpy as np, pandas as pd\n",
    "from pathlib import Path\n",
    "from sklearn.model_selection import KFold, cross_val_score\n",
    "from sklearn.compose import ColumnTransformer\n",
    "from sklearn.pipeline import Pipeline\n",
    "from sklearn.impute import SimpleImputer\n",
    "from sklearn.preprocessing import OneHotEncoder, StandardScaler\n",
    "from sklearn.metrics import make_scorer, mean_squared_log_error\n",
    "\n",
    "DATA = Path(\"data\")\n",
    "train = pd.read_csv(DATA/\"train.csv\")\n",
    "test  = pd.read_csv(DATA/\"test.csv\")\n",
    "\n",
    "TARGET = \"SalePrice\"\n",
    "y = train[TARGET].values\n",
    "X = train.drop(columns=[TARGET])\n",
    "\n",
    "num_cols = X.select_dtypes(include=np.number).columns.tolist()\n",
    "cat_cols = [c for c in X.columns if c not in num_cols]\n",
    "\n",
    "# OneHotEncoder: handle both old/new sklearn\n",
    "try:\n",
    "    ohe = OneHotEncoder(handle_unknown=\"ignore\", sparse_output=True)\n",
    "except TypeError:\n",
    "    ohe = OneHotEncoder(handle_unknown=\"ignore\", sparse=True)\n",
    "\n",
    "preprocess = ColumnTransformer([\n",
    "    (\"num\", Pipeline([(\"imputer\", SimpleImputer(strategy=\"median\")),\n",
    "                      (\"scaler\", StandardScaler(with_mean=False))]), num_cols),\n",
    "    (\"cat\", Pipeline([(\"imputer\", SimpleImputer(strategy=\"most_frequent\")),\n",
    "                      (\"ohe\", ohe)]), cat_cols),\n",
    "])\n",
    "\n",
    "def rmsle(y_true, y_pred):\n",
    "    return float(np.sqrt(mean_squared_log_error(y_true, np.maximum(0, y_pred))))\n",
    "\n",
    "rmsle_scorer = make_scorer(rmsle, greater_is_better=False)\n",
    "cv = KFold(n_splits=5, shuffle=True, random_state=2025)\n",
    "print(\"Rows:\", train.shape, \"| Test rows:\", test.shape)"
   ]
  },
  {
   "cell_type": "markdown",
   "id": "060ac543",
   "metadata": {},
   "source": [
    "## Baseline: RandomForest (CV → submission)"
   ]
  },
  {
   "cell_type": "code",
   "execution_count": null,
   "id": "d70b4554",
   "metadata": {},
   "outputs": [],
   "source": [
    "from sklearn.ensemble import RandomForestRegressor\n",
    "from pathlib import Path\n",
    "\n",
    "rf = RandomForestRegressor(n_estimators=600, random_state=2025, n_jobs=-1)\n",
    "pipe_rf = Pipeline([(\"prep\", preprocess), (\"model\", rf)])\n",
    "\n",
    "scores_rmse = -cross_val_score(pipe_rf, X, y, scoring=\"neg_root_mean_squared_error\", cv=cv, n_jobs=-1)\n",
    "scores_rmsle = -cross_val_score(pipe_rf, X, y, scoring=rmsle_scorer, cv=cv, n_jobs=-1)\n",
    "print(f\"RF CV RMSE : {scores_rmse.mean():.2f} ± {scores_rmse.std():.2f}\")\n",
    "print(f\"RF CV RMSLE: {scores_rmsle.mean():.5f} ± {scores_rmsle.std():.5f}\")\n",
    "\n",
    "pipe_rf.fit(X, y)\n",
    "preds_rf = pipe_rf.predict(test)\n",
    "\n",
    "OUT = Path(\"outputs\"); OUT.mkdir(exist_ok=True)\n",
    "import pandas as pd\n",
    "pd.DataFrame({\"Id\": test.get(\"Id\"), \"SalePrice\": preds_rf}).to_csv(OUT/\"submission.csv\", index=False)\n",
    "pd.DataFrame([{\"model\":\"rf_baseline\",\"cv_rmse\":round(float(scores_rmse.mean()),2),\"cv_rmsle\":round(float(scores_rmsle.mean()),5),\"note\":\"5-fold\"}]).to_csv(OUT/\"experiment_log.csv\", index=False)\n",
    "print(\"Wrote:\", list(OUT.iterdir()))"
   ]
  },
  {
   "cell_type": "markdown",
   "id": "ac3589e5",
   "metadata": {},
   "source": [
    "## XGBoost baseline (CV → submission)"
   ]
  },
  {
   "cell_type": "code",
   "execution_count": null,
   "id": "7ad0977a",
   "metadata": {},
   "outputs": [],
   "source": [
    "from xgboost import XGBRegressor\n",
    "\n",
    "xgb = XGBRegressor(\n",
    "    n_estimators=1200, learning_rate=0.04, max_depth=4,\n",
    "    subsample=0.8, colsample_bytree=0.8, reg_lambda=1.0,\n",
    "    random_state=2025, tree_method=\"hist\"\n",
    ")\n",
    "pipe_xgb = Pipeline([(\"prep\", preprocess), (\"model\", xgb)])\n",
    "scores_xgb = -cross_val_score(pipe_xgb, X, y, scoring=rmsle_scorer, cv=cv, n_jobs=-1)\n",
    "print(f\"XGB CV RMSLE: {scores_xgb.mean():.5f} ± {scores_xgb.std():.5f}\")\n",
    "\n",
    "pipe_xgb.fit(X, y)\n",
    "import pandas as pd\n",
    "pd.DataFrame({\"Id\": test.get(\"Id\"), \"SalePrice\": pipe_xgb.predict(test)}).to_csv(OUT/\"submission_xgb.csv\", index=False)\n",
    "print(\"Wrote:\", list(OUT.iterdir()))"
   ]
  },
  {
   "cell_type": "markdown",
   "id": "b72a7b46",
   "metadata": {},
   "source": [
    "## (Optional) Submit to Kaggle"
   ]
  },
  {
   "cell_type": "code",
   "execution_count": null,
   "id": "d26cae71",
   "metadata": {},
   "outputs": [],
   "source": [
    "# Submit a file to Kaggle (requires you joined the comp & set kaggle.json)\n",
    "# Change filename to submission_xgb.csv if that's better.\n",
    "!kaggle competitions submit -c house-prices-advanced-regression-techniques -f outputs/submission.csv -m \"colab run\"\n",
    "# View recent submissions:\n",
    "!kaggle competitions submissions -c house-prices-advanced-regression-techniques | head -n 10"
   ]
  },
  {
   "cell_type": "markdown",
   "id": "cb2e7773",
   "metadata": {},
   "source": [
    "## Feature importance (from RF)"
   ]
  },
  {
   "cell_type": "code",
   "execution_count": null,
   "id": "c822a1e8",
   "metadata": {},
   "outputs": [],
   "source": [
    "import numpy as np, matplotlib.pyplot as plt\n",
    "from pathlib import Path\n",
    "Path(\"figures\").mkdir(exist_ok=True)\n",
    "\n",
    "model = pipe_rf.named_steps[\"model\"]\n",
    "ohe = pipe_rf.named_steps[\"prep\"].named_transformers_[\"cat\"].named_steps[\"ohe\"]\n",
    "feat_names = np.array(list(num_cols) + list(ohe.get_feature_names_out(cat_cols)))\n",
    "imps = model.feature_importances_\n",
    "\n",
    "top = imps.argsort()[-25:]\n",
    "plt.figure(figsize=(8,6))\n",
    "plt.barh(feat_names[top], imps[top])\n",
    "plt.title(\"Top Feature Importances (RF)\")\n",
    "plt.tight_layout()\n",
    "plt.savefig(\"figures/feature_importance.png\", dpi=200)\n",
    "print(\"Saved figures/feature_importance.png\")"
   ]
  },
  {
   "cell_type": "markdown",
   "id": "9622c428",
   "metadata": {},
   "source": [
    "## Artifacts summary"
   ]
  },
  {
   "cell_type": "code",
   "execution_count": null,
   "id": "d0844780",
   "metadata": {},
   "outputs": [],
   "source": [
    "import os\n",
    "print(\"Outputs:\", os.listdir(\"outputs\"))\n",
    "print(\"Figures:\", os.listdir(\"figures\") if os.path.isdir(\"figures\") else [])\n",
    "print(\"Done.\")"
   ]
  }
 ],
 "metadata": {
  "colab": {
   "name": "HousePrices_ChatGPT_Workflow_Colab"
  }
 },
 "nbformat": 4,
 "nbformat_minor": 5
}
